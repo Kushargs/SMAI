{
 "cells": [
  {
   "cell_type": "markdown",
   "metadata": {},
   "source": [
    "## Spam Email Classifier with KNN using TF-IDF scores"
   ]
  },
  {
   "cell_type": "markdown",
   "metadata": {},
   "source": [
    "1.   Assignment must be implemented in Python 3 only.\n",
    "2.   You are allowed to use libraries for data preprocessing (numpy, pandas, nltk etc) and for evaluation metrics, data visualization (matplotlib etc.).\n",
    "3.   You will be evaluated not just on the overall performance of the model and also on the experimentation with hyper parameters, data prepossessing techniques etc.\n",
    "4.   The report file must be a well documented jupyter notebook, explaining the experiments you have performed, evaluation metrics and corresponding code. The code must run and be able to reproduce the accuracies, figures/graphs etc.\n",
    "5.   For all the questions, you must create a train-validation data split and test the hyperparameter tuning on the validation set. Your jupyter notebook must reflect the same.\n",
    "6.   Strict plagiarism checking will be done. An F will be awarded for plagiarism."
   ]
  },
  {
   "cell_type": "markdown",
   "metadata": {},
   "source": [
    "**Task: Given an email, classify it as spam or ham**\n",
    "\n",
    "Given input text file (\"emails.txt\") containing 5572 email messages, with each row having its corresponding label (spam/ham) attached to it.\n",
    "\n",
    "This task also requires basic pre-processing of text (like removing stopwords, stemming/lemmatizing, replacing email_address with 'email-tag', etc..).\n",
    "\n",
    "You are required to find the tf-idf scores for the given data and use them to perform KNN using Cosine Similarity."
   ]
  },
  {
   "cell_type": "markdown",
   "metadata": {},
   "source": [
    "### Import necessary libraries"
   ]
  },
  {
   "cell_type": "code",
   "execution_count": 77,
   "metadata": {},
   "outputs": [
    {
     "name": "stderr",
     "output_type": "stream",
     "text": [
      "[nltk_data] Downloading package punkt to /home/kush/nltk_data...\n",
      "[nltk_data]   Package punkt is already up-to-date!\n"
     ]
    }
   ],
   "source": [
    "import pandas as pd\n",
    "import numpy as np\n",
    "import nltk\n",
    "nltk.download('punkt')\n",
    "import re\n",
    "from sklearn.model_selection import train_test_split #using sklearn only for splitting data\n",
    "from scipy import spatial\n",
    "import matplotlib.pyplot as plt"
   ]
  },
  {
   "cell_type": "markdown",
   "metadata": {},
   "source": [
    "### Load dataset"
   ]
  },
  {
   "cell_type": "code",
   "execution_count": 2,
   "metadata": {},
   "outputs": [],
   "source": [
    "config = {\n",
    "    \"dataset_file\":\"./emails.txt\", \n",
    "    \"output_file\": \"./output_q3.txt\",\n",
    "    \"split_ratio\": 0.02\n",
    "}"
   ]
  },
  {
   "cell_type": "code",
   "execution_count": 3,
   "metadata": {},
   "outputs": [],
   "source": [
    "with open(config['dataset_file'], 'r') as inFile:\n",
    "    dataset = inFile.readlines()\n",
    "df = pd.DataFrame(dataset)"
   ]
  },
  {
   "cell_type": "code",
   "execution_count": 4,
   "metadata": {},
   "outputs": [],
   "source": [
    "df[[0, 'string']] = df[0].str.split(\"\\t\", expand=True)\n",
    "df = df.rename(columns = {0:'type','string': 'string'})"
   ]
  },
  {
   "cell_type": "code",
   "execution_count": 5,
   "metadata": {},
   "outputs": [],
   "source": [
    "def one_hot(mail_type):\n",
    "    if mail_type == \"ham\":\n",
    "        return 0\n",
    "    else: \n",
    "        return 1"
   ]
  },
  {
   "cell_type": "code",
   "execution_count": 6,
   "metadata": {},
   "outputs": [],
   "source": [
    "df['type'] = df['type'].apply(one_hot) "
   ]
  },
  {
   "cell_type": "markdown",
   "metadata": {},
   "source": [
    "ham: 0,  spam: 1"
   ]
  },
  {
   "cell_type": "markdown",
   "metadata": {},
   "source": [
    "### Preprocess data"
   ]
  },
  {
   "cell_type": "code",
   "execution_count": 42,
   "metadata": {},
   "outputs": [
    {
     "name": "stderr",
     "output_type": "stream",
     "text": [
      "[nltk_data] Downloading package stopwords to /home/kush/nltk_data...\n",
      "[nltk_data]   Package stopwords is already up-to-date!\n",
      "[nltk_data] Downloading package wordnet to /home/kush/nltk_data...\n",
      "[nltk_data]   Package wordnet is already up-to-date!\n",
      "[nltk_data] Downloading package omw-1.4 to /home/kush/nltk_data...\n",
      "[nltk_data]   Package omw-1.4 is already up-to-date!\n"
     ]
    }
   ],
   "source": [
    "from nltk.tokenize import word_tokenize\n",
    "nltk.download('stopwords')\n",
    "from nltk.corpus import stopwords\n",
    "stop_words = set(stopwords.words(\"english\"))\n",
    "from nltk.stem.wordnet import WordNetLemmatizer\n",
    "lem = WordNetLemmatizer()\n",
    "nltk.download('wordnet')\n",
    "nltk.download('omw-1.4')\n",
    "from scipy.spatial.distance import cdist"
   ]
  },
  {
   "cell_type": "code",
   "execution_count": 8,
   "metadata": {},
   "outputs": [],
   "source": [
    "emails = df.to_numpy()"
   ]
  },
  {
   "cell_type": "code",
   "execution_count": 9,
   "metadata": {},
   "outputs": [],
   "source": [
    "\n",
    "for i, string in enumerate(emails[:, 1]):\n",
    "    string = re.sub(r\"[^a-zA-Z0-9]\", \" \", string.lower()) #remove puncs and lower\n",
    "    string = word_tokenize(string)                        #tokanize\n",
    "    new_string = []\n",
    "    for word in string:       \n",
    "        if word not in stop_words:                        #remove stop_words\n",
    "            word = lem.lemmatize(word)                    #Lemmatize                \n",
    "            new_string.append(word)\n",
    "    emails[i, 1] = new_string\n",
    "    \n",
    "    "
   ]
  },
  {
   "cell_type": "code",
   "execution_count": 10,
   "metadata": {},
   "outputs": [],
   "source": [
    "texts = emails[:, 1]\n",
    "labels = emails[:, 0]"
   ]
  },
  {
   "cell_type": "code",
   "execution_count": 11,
   "metadata": {},
   "outputs": [],
   "source": [
    "def calc_Vocab(data):\n",
    "    total_words = []\n",
    "    for l in data:\n",
    "        total_words.extend(l)\n",
    "    total = list(set(total_words))\n",
    "    return total    "
   ]
  },
  {
   "cell_type": "code",
   "execution_count": 12,
   "metadata": {},
   "outputs": [],
   "source": [
    "def calc_tf(t, d):\n",
    "    return d.count(t)/len(d)"
   ]
  },
  {
   "cell_type": "code",
   "execution_count": 13,
   "metadata": {},
   "outputs": [],
   "source": [
    "def calc_df(tf):\n",
    "    temp = tf.astype(bool).sum()\n",
    "    df = dict(zip(list(tf), temp))\n",
    "    return df\n",
    "    "
   ]
  },
  {
   "cell_type": "code",
   "execution_count": 14,
   "metadata": {},
   "outputs": [],
   "source": [
    "def calc_tfidf(data):\n",
    "    vocab = calc_Vocab(data)\n",
    "    tf = []\n",
    "    N = len(data)\n",
    "    for mail in data:\n",
    "        word_dic = dict.fromkeys(vocab, 0)\n",
    "        for word in mail:\n",
    "            word_dic[word] = calc_tf(word, mail)\n",
    "        tf.append(word_dic)\n",
    "    tf = pd.DataFrame(tf)\n",
    "    \n",
    "    return tf\n",
    "        "
   ]
  },
  {
   "cell_type": "code",
   "execution_count": 15,
   "metadata": {},
   "outputs": [],
   "source": [
    "tf = calc_tfidf(texts)"
   ]
  },
  {
   "cell_type": "code",
   "execution_count": 16,
   "metadata": {},
   "outputs": [],
   "source": [
    "N = len(texts)"
   ]
  },
  {
   "cell_type": "code",
   "execution_count": 17,
   "metadata": {},
   "outputs": [],
   "source": [
    "tf_arr = tf.to_numpy()\n",
    "df = calc_df(tf)   \n",
    "df_arr = np.array(list(df.values()))\n",
    "N_arr = np.full( shape=len(list(tf)), fill_value=N, dtype=np.int )\n",
    "idf = np.log10(np.divide(N_arr, df_arr+1))"
   ]
  },
  {
   "cell_type": "code",
   "execution_count": 18,
   "metadata": {},
   "outputs": [],
   "source": [
    "tfidf = tf_arr*idf"
   ]
  },
  {
   "cell_type": "code",
   "execution_count": 19,
   "metadata": {},
   "outputs": [],
   "source": [
    "tfidf_df = pd.DataFrame(tfidf, columns= list(tf))"
   ]
  },
  {
   "cell_type": "markdown",
   "metadata": {},
   "source": [
    "### Split data"
   ]
  },
  {
   "cell_type": "code",
   "execution_count": 20,
   "metadata": {},
   "outputs": [],
   "source": [
    "train_data, val_data, train_label, val_label = train_test_split(tfidf, labels, test_size=config['split_ratio'], random_state = 37)"
   ]
  },
  {
   "cell_type": "markdown",
   "metadata": {},
   "source": [
    "### Train your KNN model (reuse previously iplemented model built from scratch) and test on your data"
   ]
  },
  {
   "cell_type": "code",
   "execution_count": 23,
   "metadata": {},
   "outputs": [],
   "source": [
    "#caculate cosine distance \n"
   ]
  },
  {
   "cell_type": "code",
   "execution_count": 57,
   "metadata": {},
   "outputs": [],
   "source": [
    "def get_similarity(a, b, _type):\n",
    "    if _type == 'cos':\n",
    "        return 1 - spatial.distance.cosine(a, b)\n",
    "    elif _type == 'euc':\n",
    "        return 1/np.linalg.norm(a,b)\n",
    "    elif _type == 'man':\n",
    "        return 1/cdist(a, b, metric='cityblock')"
   ]
  },
  {
   "cell_type": "code",
   "execution_count": 58,
   "metadata": {},
   "outputs": [],
   "source": [
    "def get_similarity(val_data, train_data, _type):\n",
    "    similarity_vec = []\n",
    "    for vec in val_data:\n",
    "        cosin_1 = []\n",
    "        for train_vec in train_data:\n",
    "            cosin = get_cosine(train_vec, vec)\n",
    "            cosin_1.append(cosin)\n",
    "        similarity_vec.append(cosin_1)\n",
    "    return similarity_vec"
   ]
  },
  {
   "cell_type": "markdown",
   "metadata": {},
   "source": [
    "### TF-IDF Implementation"
   ]
  },
  {
   "cell_type": "code",
   "execution_count": 59,
   "metadata": {},
   "outputs": [],
   "source": [
    "def neighbors(similarity,k_value):knn = KNeighborsClassifier(n_neighbors=5)\n",
    "    k_n_n = []\n",
    "    for i in range(k_value):\n",
    "        max_sim = 0\n",
    "        max_sim_user = 0\n",
    "        for i, sim in enumerate(similarity):\n",
    "            if i in k_n_n:\n",
    "                continue\n",
    "            elif max_sim <= sim:\n",
    "                max_sim_user = i\n",
    "                max_sim = sim\n",
    "        k_n_n.append(max_sim_user)\n",
    "    return k_n_n"
   ]
  },
  {
   "cell_type": "code",
   "execution_count": 60,
   "metadata": {},
   "outputs": [],
   "source": [
    "def pridict(knn, label):\n",
    "    sumi = 0\n",
    "    for n in knn:\n",
    "        sumi += label[n] \n",
    "    if sumi > len(knn)/2:\n",
    "        return 1\n",
    "    else:\n",
    "        return 0"
   ]
  },
  {
   "cell_type": "code",
   "execution_count": 61,
   "metadata": {},
   "outputs": [],
   "source": [
    "def get_tp_fp_fn(pridictions, val_label):\n",
    "    tp = 0\n",
    "    fp = 0\n",
    "    fn = 0\n",
    "    for i in range(len(pridictions)):\n",
    "        if pridictions[i] == 1 and val_label[i] == 1:\n",
    "            tp += 1\n",
    "        if pridictions[i] == 1 and val_label[i] == 0:\n",
    "            fp += 1\n",
    "        if pridictions[i] == 0 and val_label[i] == 1:\n",
    "            fn += 1\n",
    "    recall = tp/(tp+fn)\n",
    "    precision = tp/(tp+fp)\n",
    "    F1 = 2*precision*recall/(precision+recall)\n",
    "    return recall, precision, F1\n",
    "\n",
    "    "
   ]
  },
  {
   "cell_type": "code",
   "execution_count": null,
   "metadata": {},
   "outputs": [],
   "source": []
  },
  {
   "cell_type": "code",
   "execution_count": null,
   "metadata": {},
   "outputs": [],
   "source": []
  },
  {
   "cell_type": "markdown",
   "metadata": {},
   "source": [
    "***1. Experiment with different distance measures [Euclidean distance, Manhattan distance, Hamming Distance] and compare with the Cosine Similarity distance results.***"
   ]
  },
  {
   "cell_type": "code",
   "execution_count": null,
   "metadata": {},
   "outputs": [],
   "source": []
  },
  {
   "cell_type": "code",
   "execution_count": 62,
   "metadata": {},
   "outputs": [
    {
     "name": "stderr",
     "output_type": "stream",
     "text": [
      "/home/kush/.local/lib/python3.8/site-packages/scipy/spatial/distance.py:714: RuntimeWarning: invalid value encountered in double_scalars\n",
      "  dist = 1.0 - uv / np.sqrt(uu * vv)\n"
     ]
    }
   ],
   "source": [
    "\n",
    "similarity_vec_cosin = get_similarity(val_data, train_data, 'cos')\n",
    "# similarity_vec_eucd = get_similarity(val_data, train_data, 'euc')\n",
    "# similarity_vec_man = get_similarity(val_data, train_data, 'man')"
   ]
  },
  {
   "cell_type": "code",
   "execution_count": 71,
   "metadata": {},
   "outputs": [],
   "source": [
    "k = 4\n",
    "\n",
    "cosin_pridictions = []\n",
    "# euc_pridictions = []\n",
    "# man_pridictions = []\n",
    "for sim in similarity_vec_cosin:\n",
    "    knn = neighbors(sim, k)\n",
    "    cosin_pridictions.append(pridict(knn, train_label))\n",
    "# for sim in similarity_vec_eucd:\n",
    "#     knn = neighbors(sim, k)\n",
    "#     euc_pridictions.append(pridict(knn, train_label))\n",
    "# for sim in similarity_vec_man:\n",
    "#     knn = neighbors(sim, k)\n",
    "#     man_pridictions.append(pridict(knn, train_label))"
   ]
  },
  {
   "cell_type": "code",
   "execution_count": 72,
   "metadata": {},
   "outputs": [],
   "source": [
    "recall_cos, precision_cos, F1_cos = get_tp_fp_fn(cosin_pridictions, val_label)\n",
    "# recall_euc, precision_euc, F1_euc = get_tp_fp_fn(euc_pridictions, val_label)\n",
    "# recall_man, precision_man, F1_man = get_tp_fp_fn(man_pridictions, val_label)"
   ]
  },
  {
   "cell_type": "markdown",
   "metadata": {},
   "source": [
    "***2. Explain which distance measure works best and why? Explore the distance measures and weigh their pro and cons in different application settings.***"
   ]
  },
  {
   "cell_type": "markdown",
   "metadata": {},
   "source": []
  },
  {
   "cell_type": "markdown",
   "metadata": {},
   "source": [
    "***3. Report Mean Squared Error(MSE), Mean-Absolute-Error(MAE), R-squared (R2) score in a tabular form***"
   ]
  },
  {
   "cell_type": "code",
   "execution_count": 73,
   "metadata": {},
   "outputs": [
    {
     "name": "stdout",
     "output_type": "stream",
     "text": [
      "0.6923076923076923 1.0 0.8181818181818181\n"
     ]
    }
   ],
   "source": [
    "print(recall_cos, precision_cos, F1_cos)"
   ]
  },
  {
   "cell_type": "markdown",
   "metadata": {},
   "source": [
    "***4. Choose different K values (k=1,3,5,7,11,17,23,28) and experiment. Plot a graph showing R2 score vs k.***"
   ]
  },
  {
   "cell_type": "code",
   "execution_count": 75,
   "metadata": {},
   "outputs": [],
   "source": [
    "k_vals = [1,3,5,7,11,17,23,28]\n",
    "F1 = []\n",
    "for k in k_vals:\n",
    "    cosin_pridictions = []\n",
    "    for sim in similarity_vec_cosin:\n",
    "        knn = neighbors(sim, k)\n",
    "        cosin_pridictions.append(pridict(knn, train_label))\n",
    "    recall, precision, F1_val = get_tp_fp_fn(cosin_pridictions, val_label)\n",
    "    F1.append(F1_val)"
   ]
  },
  {
   "cell_type": "code",
   "execution_count": 81,
   "metadata": {},
   "outputs": [
    {
     "data": {
      "text/plain": [
       "[0.7826086956521738,\n",
       " 0.8695652173913044,\n",
       " 0.8181818181818181,\n",
       " 0.8181818181818181,\n",
       " 0.8181818181818181,\n",
       " 0.8695652173913044,\n",
       " 0.8695652173913044,\n",
       " 0.8181818181818181]"
      ]
     },
     "execution_count": 81,
     "metadata": {},
     "output_type": "execute_result"
    }
   ],
   "source": [
    "F1"
   ]
  },
  {
   "cell_type": "code",
   "execution_count": 80,
   "metadata": {},
   "outputs": [
    {
     "data": {
      "text/plain": [
       "[<matplotlib.lines.Line2D at 0x7f97873ba670>]"
      ]
     },
     "execution_count": 80,
     "metadata": {},
     "output_type": "execute_result"
    },
    {
     "data": {
      "image/png": "[encoded data removed]",
      "text/plain": [
       "<Figure size 432x288 with 1 Axes>"
      ]
     },
     "metadata": {
      "needs_background": "light"
     },
     "output_type": "display_data"
    }
   ],
   "source": [
    "plt.plot(k_vals, F1)"
   ]
  },
  {
   "cell_type": "markdown",
   "metadata": {},
   "source": [
    "### Train and test Sklearn's KNN classifier model on your data (use metric which gave best results on your experimentation with built-from-scratch model.)"
   ]
  },
  {
   "cell_type": "code",
   "execution_count": 84,
   "metadata": {},
   "outputs": [
    {
     "data": {
      "text/plain": [
       "KNeighborsClassifier()"
      ]
     },
     "execution_count": 84,
     "metadata": {},
     "output_type": "execute_result"
    }
   ],
   "source": [
    "from sklearn.neighbors import KNeighborsClassifier\n",
    "kneigh = KNeighborsClassifier(n_neighbors=5)\n",
    "kneigh.fit(train_data, train_label.astype(int))\n"
   ]
  },
  {
   "cell_type": "code",
   "execution_count": 86,
   "metadata": {},
   "outputs": [],
   "source": [
    "y_pred = kneigh.predict(val_data)"
   ]
  },
  {
   "cell_type": "code",
   "execution_count": 87,
   "metadata": {},
   "outputs": [
    {
     "data": {
      "text/plain": [
       "array([0, 0, 0, 0, 0, 0, 0, 0, 0, 0, 0, 0, 0, 1, 0, 0, 0, 0, 0, 0, 0, 0,\n",
       "       0, 0, 0, 0, 0, 0, 0, 0, 0, 0, 0, 0, 1, 0, 0, 0, 0, 0, 1, 0, 0, 0,\n",
       "       0, 0, 0, 0, 0, 1, 0, 0, 0, 0, 0, 0, 0, 0, 0, 0, 0, 0, 0, 0, 0, 0,\n",
       "       0, 0, 0, 0, 0, 0, 0, 0, 0, 0, 0, 0, 0, 0, 0, 0, 0, 0, 0, 0, 0, 0,\n",
       "       0, 0, 0, 0, 0, 0, 0, 0, 0, 0, 0, 0, 0, 0, 0, 0, 0, 0, 0, 0, 0, 0,\n",
       "       0, 0])"
      ]
     },
     "execution_count": 87,
     "metadata": {},
     "output_type": "execute_result"
    }
   ],
   "source": [
    "y_pred"
   ]
  },
  {
   "cell_type": "code",
   "execution_count": 88,
   "metadata": {},
   "outputs": [],
   "source": [
    "recall_skl, preci_skl, F1_skl = get_tp_fp_fn(y_pred, val_label)"
   ]
  },
  {
   "cell_type": "code",
   "execution_count": null,
   "metadata": {},
   "outputs": [],
   "source": []
  },
  {
   "cell_type": "markdown",
   "metadata": {},
   "source": [
    "***Compare both the models result.***"
   ]
  },
  {
   "cell_type": "code",
   "execution_count": 73,
   "metadata": {},
   "outputs": [
    {
     "name": "stdout",
     "output_type": "stream",
     "text": [
      "0.6923076923076923 1.0 0.8181818181818181\n"
     ]
    }
   ],
   "source": [
    "print(recall_cos, precision_cos, F1_cos)"
   ]
  },
  {
   "cell_type": "code",
   "execution_count": 89,
   "metadata": {},
   "outputs": [
    {
     "name": "stdout",
     "output_type": "stream",
     "text": [
      "0.3076923076923077 1.0 0.47058823529411764\n"
     ]
    }
   ],
   "source": [
    "print(recall_skl, preci_skl, F1_skl)"
   ]
  },
  {
   "cell_type": "markdown",
   "metadata": {},
   "source": [
    "***What is the time complexity of training using KNN classifier?***"
   ]
  },
  {
   "cell_type": "markdown",
   "metadata": {},
   "source": []
  },
  {
   "cell_type": "markdown",
   "metadata": {},
   "source": [
    "***What is the time complexity while testing? Is KNN a linear classifier or can it learn any boundary?***"
   ]
  },
  {
   "cell_type": "raw",
   "metadata": {},
   "source": []
  }
 ],
 "metadata": {
  "kernelspec": {
   "display_name": "Python 3",
   "language": "python",
   "name": "python3"
  },
  "language_info": {
   "codemirror_mode": {
    "name": "ipython",
    "version": 3
   },
   "file_extension": ".py",
   "mimetype": "text/x-python",
   "name": "python",
   "nbconvert_exporter": "python",
   "pygments_lexer": "ipython3",
   "version": "3.8.10"
  }
 },
 "nbformat": 4,
 "nbformat_minor": 5
}
